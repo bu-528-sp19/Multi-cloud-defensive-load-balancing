{
 "cells": [
  {
   "cell_type": "code",
   "execution_count": 30,
   "metadata": {},
   "outputs": [
    {
     "name": "stdout",
     "output_type": "stream",
     "text": [
      "0.1077737808227539\n",
      "0.07938981056213379\n",
      "0.07810020446777344\n",
      "0.09729647636413574\n",
      "0.07364821434020996\n",
      "0.07811498641967773\n",
      "0.10396361351013184\n",
      "0.08874344825744629\n",
      "0.08045291900634766\n",
      "0.08560538291931152\n",
      "failed : 0\n"
     ]
    }
   ],
   "source": [
    "import time\n",
    "import urllib.request, json\n",
    "import requests\n",
    "\n",
    "#data = {\"UserID\": 1, \"Model\": \"Model-T\"}\n",
    "\n",
    "\n",
    "#now = time.time()\n",
    "failed = 0 \n",
    "for i in range(10):\n",
    "    innernow=time.time()\n",
    "    data = {\"UserID\": 1, \"Model\": str(i)}\n",
    "    json_data = json.dumps(data)\n",
    "    r = requests.post('http://35.221.57.208/cars/', json_data)\n",
    "    stat=r.status_code\n",
    "    innerthen=time.time()\n",
    "    if (stat == 200):\n",
    "        print((innerthen-innernow))\n",
    "    else:\n",
    "        failed+=1\n",
    "print('failed :',failed)\n",
    "#then = time.time()\n",
    "#print((then-now)/100)\n",
    "#print(then-now)\n",
    "    "
   ]
  }
 ],
 "metadata": {
  "kernelspec": {
   "display_name": "Python 3",
   "language": "python",
   "name": "python3"
  },
  "language_info": {
   "codemirror_mode": {
    "name": "ipython",
    "version": 3
   },
   "file_extension": ".py",
   "mimetype": "text/x-python",
   "name": "python",
   "nbconvert_exporter": "python",
   "pygments_lexer": "ipython3",
   "version": "3.6.5"
  }
 },
 "nbformat": 4,
 "nbformat_minor": 2
}
