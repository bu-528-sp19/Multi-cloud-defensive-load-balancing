{
 "cells": [
  {
   "cell_type": "code",
   "execution_count": 239,
   "metadata": {},
   "outputs": [
    {
     "name": "stdout",
     "output_type": "stream",
     "text": [
      "0.07203531265258789\n",
      "0.10623812675476074\n",
      "0.062322139739990234\n",
      "0.07601428031921387\n",
      "0.09104633331298828\n",
      "0.062474727630615234\n",
      "0.07960963249206543\n",
      "0.05565667152404785\n",
      "0.06265640258789062\n",
      "0.07788705825805664\n",
      "0.0661013126373291\n",
      "0.06270718574523926\n",
      "0.0780949592590332\n",
      "0.07533931732177734\n",
      "0.059609174728393555\n",
      "0.08309221267700195\n",
      "0.06465816497802734\n",
      "0.05296158790588379\n",
      "0.0880887508392334\n",
      "0.06025338172912598\n",
      "0.06252098083496094\n",
      "0.08283209800720215\n",
      "0.07179474830627441\n",
      "0.06269693374633789\n",
      "failed : 176\n"
     ]
    }
   ],
   "source": [
    "import time\n",
    "import urllib.request, json\n",
    "import requests\n",
    "\n",
    "#now = time.time()\n",
    "failed=0\n",
    "for i in range(200):\n",
    "    innernow=time.time()\n",
    "    r = requests.get('http://35.221.57.208/cars/')\n",
    "    innerthen=time.time()\n",
    "    stat=r.status_code\n",
    "    if (stat == 200):\n",
    "        print((innerthen-innernow))\n",
    "    else:\n",
    "        failed= failed+1\n",
    "print('failed :',failed)\n",
    "#then = time.time()\n",
    "#print(\"average time:\",(then-now)/100)\n",
    "#print(\"total time:\",then-now)\n",
    "    "
   ]
  }
 ],
 "metadata": {
  "kernelspec": {
   "display_name": "Python 3",
   "language": "python",
   "name": "python3"
  },
  "language_info": {
   "codemirror_mode": {
    "name": "ipython",
    "version": 3
   },
   "file_extension": ".py",
   "mimetype": "text/x-python",
   "name": "python",
   "nbconvert_exporter": "python",
   "pygments_lexer": "ipython3",
   "version": "3.6.5"
  }
 },
 "nbformat": 4,
 "nbformat_minor": 2
}
