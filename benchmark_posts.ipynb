{
 "cells": [
  {
   "cell_type": "code",
   "execution_count": 76,
   "metadata": {},
   "outputs": [
    {
     "name": "stdout",
     "output_type": "stream",
     "text": [
      "failed : 100\n"
     ]
    }
   ],
   "source": [
    "import time\n",
    "import urllib.request, json\n",
    "import requests\n",
    "\n",
    "#data = {\"UserID\": 1, \"Model\": \"Model-T\"}\n",
    "\n",
    "\n",
    "#now = time.time()\n",
    "failed = 0 \n",
    "for i in range(100):\n",
    "    innernow=time.time()\n",
    "    data = {\"UserID\": 1, \"Model\": str(i)}\n",
    "    json_data = json.dumps(data)\n",
    "    r = requests.post('http://35.221.57.208/cars/', json_data)\n",
    "    #r = requests.post('http://35.245.114.96:8888/cars/', json_data)\n",
    "    stat=r.status_code\n",
    "    innerthen=time.time()\n",
    "    if (stat == 200):\n",
    "        print((innerthen-innernow))\n",
    "    else:\n",
    "        failed= failed+1\n",
    "print('failed :',failed)\n",
    "#then = time.time()\n",
    "#print((then-now)/100)\n",
    "#print(then-now)\n",
    "    "
   ]
  }
 ],
 "metadata": {
  "kernelspec": {
   "display_name": "Python 3",
   "language": "python",
   "name": "python3"
  }
 },
 "nbformat": 4,
 "nbformat_minor": 2
}
